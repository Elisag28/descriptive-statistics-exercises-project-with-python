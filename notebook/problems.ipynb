{
    "cells": [
        {
            "cell_type": "markdown",
            "id": "ac622319",
            "metadata": {},
            "source": [
                "# Descriptive statistics problems"
            ]
        },
        {
            "cell_type": "markdown",
            "id": "aa8993e4",
            "metadata": {},
            "source": [
                "### Exercise 1"
            ]
        },
        {
            "cell_type": "markdown",
            "id": "5e0ab0d5",
            "metadata": {},
            "source": [
                "We will use Numpy to obtain information to describe statistically.\n",
                "\n",
                "- Generate an array of 100 elements following a normal distribution.\n",
                "- Generate an array of 100 elements following a chi-square distribution with 3 degrees of freedom.\n",
                "- Calculate the main metrics and statistical measures that best describe the two vectors."
            ]
        },
        {
            "cell_type": "code",
            "execution_count": 33,
            "id": "34720ab6",
            "metadata": {},
            "outputs": [
                {
                    "name": "stdout",
                    "output_type": "stream",
                    "text": [
                        "[-0.73390961  0.14922305 -0.43015835 -0.28002775 -0.61386688 -0.18407432\n",
                        " -1.52642415  0.30218141  1.39739584  1.4764959  -0.49821148 -1.49267781\n",
                        " -0.19599301 -1.00369348 -1.39812466 -1.28046688  0.00477005 -0.5017502\n",
                        " -1.03398195  2.21039748 -0.68033368 -0.54267851  2.04924765  0.3186368\n",
                        " -0.12340607  0.19878741 -0.88428791  1.5395632   0.86813761 -1.48259954\n",
                        " -0.45427378 -0.02415249 -0.74287181  0.03910851 -0.13997197 -0.51580857\n",
                        " -0.29353747 -0.91076704 -1.27808841  0.83052078 -0.80318142  0.44176075\n",
                        " -0.15504963  1.34028436 -0.47250547 -0.26768749 -1.40369077 -0.89152075\n",
                        " -0.0653617   1.35161786 -0.51829864  0.54250052 -1.40798783  1.0938076\n",
                        " -1.27370006  0.60722574 -1.75955204 -0.54911954  0.58561449  1.13213265\n",
                        " -1.05253736 -0.36396632  1.18659808 -0.49240342 -0.07466668 -1.70598228\n",
                        " -0.95919325  0.99782779 -0.68576839 -0.58043264  0.21522732 -0.616884\n",
                        "  0.18130871  1.60159982  0.89511378 -0.5727317   1.35447441  1.80241788\n",
                        " -0.42688603  0.52154808 -0.41365736 -0.8115787  -0.83715029 -0.8268112\n",
                        "  0.84238644 -0.0474147  -1.85642956 -0.49751587  1.14175083 -0.25151821\n",
                        "  3.34759237 -0.91748549 -1.7229921  -0.44609162  1.39202354 -0.48875385\n",
                        " -0.63355741 -0.66323105  0.10446743 -0.38954734]\n",
                        "[3.3352487  3.94124151 4.89717723 1.48103946 3.95743046 0.46828593\n",
                        " 2.10753842 0.82768641 3.02859268 1.61496364 7.64933482 2.88242545\n",
                        " 0.43841088 0.52946703 2.19846779 4.42312203 0.65170672 0.91486517\n",
                        " 5.93902612 1.69609236 0.8566517  1.57032185 1.08948105 0.64479737\n",
                        " 0.95977008 3.21350315 1.12529613 0.10496399 3.69993311 8.21146477\n",
                        " 2.07526199 1.62363958 1.18936428 4.02904638 4.50941014 0.76419455\n",
                        " 6.87010963 0.33698808 1.03473706 2.3064998  3.03630959 3.17800376\n",
                        " 0.54005842 1.11856902 2.84777334 5.87902305 2.96497545 5.14288216\n",
                        " 5.04250786 1.47536497 1.0569187  0.05684181 2.38985638 2.72204273\n",
                        " 4.55836389 0.67045434 5.80955376 3.87416354 0.25201425 6.81410156\n",
                        " 2.67125677 4.50554084 1.40664605 1.29490157 0.49043807 0.90574361\n",
                        " 1.67371438 0.1801387  0.25197815 1.58273377 2.96364569 1.70236309\n",
                        " 2.12504488 0.45887744 0.19552875 1.5713968  3.36264135 5.81349371\n",
                        " 0.3212142  3.54608713 1.66120652 1.86048454 0.17983693 3.33623723\n",
                        " 0.23541148 0.46187531 1.19994386 4.19548021 4.30775576 3.29123231\n",
                        " 0.46233652 5.18705232 5.91773732 6.85188278 0.98556972 3.29384952\n",
                        " 1.87481876 3.22858973 2.72895615 5.51815499]\n",
                        "normal and chisquare mean: (-0.13085233755625944, 2.5242913298604126), normal and chisquare mode: (-0.7339096092938189, 3.335248699516363), normal and chisquare median: (-0.40160234989288385, 1.975040375401764).\n",
                        "Normal and chi range:  (5.204021935182531, 8.154622959904188), normal and chi variance: (0.9781342020192022, 3.8735653019556078), normal and chi standard deviation: (0.9890066744057909, 1.9681375210984642).\n",
                        "normal and chi skewness: (0.7735305581292021, 0.8205482900484523), normal and chi kurtosis: (0.5189856793648904, -0.12240966060654657).\n"
                    ]
                }
            ],
            "source": [
                "# TODO\n",
                "import numpy as np\n",
                "from scipy.stats import chisquare\n",
                "import statistics as stats \n",
                "\n",
                "normal_array = np.random.normal(size=100)\n",
                "chi_array = np.random.chisquare(3, size=100)\n",
                "\n",
                "print(normal_array)\n",
                "print(chi_array)\n",
                "\n",
                "#Calculate the main metrics: Mean, mode, median. \n",
                "normal_mean = normal_array.mean()\n",
                "chi_mean = chi_array.mean()\n",
                "\n",
                "normal_mode = stats.mode(normal_array)\n",
                "chi_mode = stats.mode(chi_array)\n",
                "\n",
                "normal_median = stats.median(normal_array)\n",
                "chi_median = stats.median(chi_array)\n",
                "print(f\"normal and chisquare mean: {normal_mean, chi_mean}, normal and chisquare mode: {normal_mode, chi_mode}, normal and chisquare median: {normal_median, chi_median}.\")\n",
                "#Calculate the measures: Range, variance and standard deviation.\n",
                "normal_range = normal_array.max() - normal_array.min()\n",
                "chi_range = chi_array.max() - chi_array.min()\n",
                "\n",
                "normal_var = normal_array.var()\n",
                "chi_var = chi_array.var()\n",
                "\n",
                "normal_std = normal_array.std()\n",
                "chi_std = chi_array.std()\n",
                "\n",
                "print(f\"Normal and chi range:  {normal_range, chi_range}, normal and chi variance: {normal_var, chi_var}, normal and chi standard deviation: {normal_std, chi_std}.\")\n",
                "#Calculate sheape measures: Skewness and kurtosis.\n",
                "from scipy.stats import skew\n",
                "from scipy.stats import kurtosis\n",
                "skew_normal = skew(normal_array)\n",
                "skew_chi = skew(chi_array)\n",
                "\n",
                "kur_nor = kurtosis(normal_array)\n",
                "kur_chi = kurtosis(chi_array)\n",
                "\n",
                "print(f\"normal and chi skewness: {skew_normal, skew_chi}, normal and chi kurtosis: {kur_nor, kur_chi}.\")\n",
                "\n",
                "\n",
                "\n"
            ]
        },
        {
            "cell_type": "markdown",
            "id": "46c70c3d",
            "metadata": {},
            "source": [
                "### Exercise 2\n",
                "\n",
                "Write a Python program to calculate the standard deviation of the following data:\n",
                "\n",
                "```py\n",
                "data = [4, 2, 5, 8, 6]\n",
                "```"
            ]
        },
        {
            "cell_type": "code",
            "execution_count": 52,
            "id": "d590308e",
            "metadata": {},
            "outputs": [
                {
                    "name": "stdout",
                    "output_type": "stream",
                    "text": [
                        "The standard deviation of the data is: 2.0.\n",
                        "The standard deviation 2 is: 2.0\n"
                    ]
                }
            ],
            "source": [
                "# TODO\n",
                "import math\n",
                "data = [4, 2, 5, 8, 6]\n",
                "#first option\n",
                "def standard_dev(x):\n",
                "    vari = np.var(x)\n",
                "    std_2 = math.sqrt(vari)\n",
                "\n",
                "    return std_2\n",
                "print(f\"The standard deviation of the data is: {standard_dev(data)}.\")\n",
                "\n",
                "#second option\n",
                "\n",
                "def mean(d):\n",
                "    n = len(d)\n",
                "    mean = sum(d) / n\n",
                "    return mean\n",
                "\n",
                "def variance(d):\n",
                "    n = len(d)\n",
                "    mean = sum(d) / n\n",
                "    deviations = [(x - mean) ** 2 for x in d]\n",
                "    variance = sum(deviations) / n\n",
                "    return variance\n",
                "\n",
                "def stand_dev(d):\n",
                "    varr = variance(d)\n",
                "    standev = math.sqrt(varr)\n",
                "    return standev\n",
                "\n",
                "print(f\"The standard deviation 2 is: {stand_dev(data)}\")\n"
            ]
        }
    ],
    "metadata": {
        "interpreter": {
            "hash": "9248718ffe6ce6938b217e69dbcc175ea21f4c6b28a317e96c05334edae734bb"
        },
        "kernelspec": {
            "display_name": "Python 3.9.12 ('ML-BOOTCAMP')",
            "language": "python",
            "name": "python3"
        },
        "language_info": {
            "codemirror_mode": {
                "name": "ipython",
                "version": 3
            },
            "file_extension": ".py",
            "mimetype": "text/x-python",
            "name": "python",
            "nbconvert_exporter": "python",
            "pygments_lexer": "ipython3",
            "version": "3.9.7"
        }
    },
    "nbformat": 4,
    "nbformat_minor": 5
}
